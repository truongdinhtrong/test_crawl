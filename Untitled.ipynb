{
 "cells": [
  {
   "cell_type": "code",
   "execution_count": 1,
   "metadata": {},
   "outputs": [],
   "source": [
    "import pandas as pd"
   ]
  },
  {
   "cell_type": "code",
   "execution_count": 2,
   "metadata": {},
   "outputs": [],
   "source": [
    "df = pd.read_excel('./best_seller_book.xlsx')"
   ]
  },
  {
   "cell_type": "code",
   "execution_count": 4,
   "metadata": {},
   "outputs": [],
   "source": [
    "del df['Unnamed: 0']"
   ]
  },
  {
   "cell_type": "code",
   "execution_count": 6,
   "metadata": {},
   "outputs": [],
   "source": [
    "del df['Unnamed: 0.1']"
   ]
  },
  {
   "cell_type": "code",
   "execution_count": 8,
   "metadata": {},
   "outputs": [],
   "source": [
    "del df['image']"
   ]
  },
  {
   "cell_type": "code",
   "execution_count": 10,
   "metadata": {},
   "outputs": [
    {
     "data": {
      "text/html": [
       "<div>\n",
       "<style scoped>\n",
       "    .dataframe tbody tr th:only-of-type {\n",
       "        vertical-align: middle;\n",
       "    }\n",
       "\n",
       "    .dataframe tbody tr th {\n",
       "        vertical-align: top;\n",
       "    }\n",
       "\n",
       "    .dataframe thead th {\n",
       "        text-align: right;\n",
       "    }\n",
       "</style>\n",
       "<table border=\"1\" class=\"dataframe\">\n",
       "  <thead>\n",
       "    <tr style=\"text-align: right;\">\n",
       "      <th></th>\n",
       "      <th>final_price</th>\n",
       "      <th>regular_price</th>\n",
       "    </tr>\n",
       "  </thead>\n",
       "  <tbody>\n",
       "    <tr>\n",
       "      <th>count</th>\n",
       "      <td>1.003000e+03</td>\n",
       "      <td>1.003000e+03</td>\n",
       "    </tr>\n",
       "    <tr>\n",
       "      <th>mean</th>\n",
       "      <td>1.136617e+05</td>\n",
       "      <td>1.508148e+05</td>\n",
       "    </tr>\n",
       "    <tr>\n",
       "      <th>std</th>\n",
       "      <td>1.256136e+05</td>\n",
       "      <td>1.636760e+05</td>\n",
       "    </tr>\n",
       "    <tr>\n",
       "      <th>min</th>\n",
       "      <td>1.300000e+04</td>\n",
       "      <td>0.000000e+00</td>\n",
       "    </tr>\n",
       "    <tr>\n",
       "      <th>25%</th>\n",
       "      <td>5.667500e+04</td>\n",
       "      <td>7.900000e+04</td>\n",
       "    </tr>\n",
       "    <tr>\n",
       "      <th>50%</th>\n",
       "      <td>7.733500e+04</td>\n",
       "      <td>1.090000e+05</td>\n",
       "    </tr>\n",
       "    <tr>\n",
       "      <th>75%</th>\n",
       "      <td>1.222900e+05</td>\n",
       "      <td>1.650000e+05</td>\n",
       "    </tr>\n",
       "    <tr>\n",
       "      <th>max</th>\n",
       "      <td>1.690000e+06</td>\n",
       "      <td>2.079000e+06</td>\n",
       "    </tr>\n",
       "  </tbody>\n",
       "</table>\n",
       "</div>"
      ],
      "text/plain": [
       "        final_price  regular_price\n",
       "count  1.003000e+03   1.003000e+03\n",
       "mean   1.136617e+05   1.508148e+05\n",
       "std    1.256136e+05   1.636760e+05\n",
       "min    1.300000e+04   0.000000e+00\n",
       "25%    5.667500e+04   7.900000e+04\n",
       "50%    7.733500e+04   1.090000e+05\n",
       "75%    1.222900e+05   1.650000e+05\n",
       "max    1.690000e+06   2.079000e+06"
      ]
     },
     "execution_count": 10,
     "metadata": {},
     "output_type": "execute_result"
    }
   ],
   "source": [
    "df.describe()"
   ]
  },
  {
   "cell_type": "code",
   "execution_count": 11,
   "metadata": {},
   "outputs": [
    {
     "data": {
      "text/html": [
       "<div>\n",
       "<style scoped>\n",
       "    .dataframe tbody tr th:only-of-type {\n",
       "        vertical-align: middle;\n",
       "    }\n",
       "\n",
       "    .dataframe tbody tr th {\n",
       "        vertical-align: top;\n",
       "    }\n",
       "\n",
       "    .dataframe thead th {\n",
       "        text-align: right;\n",
       "    }\n",
       "</style>\n",
       "<table border=\"1\" class=\"dataframe\">\n",
       "  <thead>\n",
       "    <tr style=\"text-align: right;\">\n",
       "      <th></th>\n",
       "      <th>title</th>\n",
       "      <th>final_price</th>\n",
       "      <th>regular_price</th>\n",
       "    </tr>\n",
       "  </thead>\n",
       "  <tbody>\n",
       "    <tr>\n",
       "      <th>0</th>\n",
       "      <td>Bạch Dạ Hành (Tái Bản 2019)</td>\n",
       "      <td>109850</td>\n",
       "      <td>169000</td>\n",
       "    </tr>\n",
       "    <tr>\n",
       "      <th>1</th>\n",
       "      <td>Khởi Nghiệp Bán Lẻ - Bí Quyết Thành Công Và...</td>\n",
       "      <td>99000</td>\n",
       "      <td>199000</td>\n",
       "    </tr>\n",
       "    <tr>\n",
       "      <th>2</th>\n",
       "      <td>Lối Sống Tối Giản Của Người Nhật (Tái Bản)</td>\n",
       "      <td>54000</td>\n",
       "      <td>95000</td>\n",
       "    </tr>\n",
       "    <tr>\n",
       "      <th>3</th>\n",
       "      <td>Sự Im Lặng Của Bầy Cừu (Tái Bản)</td>\n",
       "      <td>80480</td>\n",
       "      <td>115000</td>\n",
       "    </tr>\n",
       "    <tr>\n",
       "      <th>4</th>\n",
       "      <td>Muôn Kiếp Nhân Sinh (Bìa Cứng)</td>\n",
       "      <td>166400</td>\n",
       "      <td>228000</td>\n",
       "    </tr>\n",
       "  </tbody>\n",
       "</table>\n",
       "</div>"
      ],
      "text/plain": [
       "                                            title  final_price  regular_price\n",
       "0                     Bạch Dạ Hành (Tái Bản 2019)       109850         169000\n",
       "1  Khởi Nghiệp Bán Lẻ - Bí Quyết Thành Công Và...        99000         199000\n",
       "2      Lối Sống Tối Giản Của Người Nhật (Tái Bản)        54000          95000\n",
       "3                Sự Im Lặng Của Bầy Cừu (Tái Bản)        80480         115000\n",
       "4                  Muôn Kiếp Nhân Sinh (Bìa Cứng)       166400         228000"
      ]
     },
     "execution_count": 11,
     "metadata": {},
     "output_type": "execute_result"
    }
   ],
   "source": [
    "df.head()"
   ]
  },
  {
   "cell_type": "code",
   "execution_count": 18,
   "metadata": {},
   "outputs": [
    {
     "data": {
      "text/html": [
       "<div>\n",
       "<style scoped>\n",
       "    .dataframe tbody tr th:only-of-type {\n",
       "        vertical-align: middle;\n",
       "    }\n",
       "\n",
       "    .dataframe tbody tr th {\n",
       "        vertical-align: top;\n",
       "    }\n",
       "\n",
       "    .dataframe thead th {\n",
       "        text-align: right;\n",
       "    }\n",
       "</style>\n",
       "<table border=\"1\" class=\"dataframe\">\n",
       "  <thead>\n",
       "    <tr style=\"text-align: right;\">\n",
       "      <th></th>\n",
       "      <th></th>\n",
       "      <th></th>\n",
       "    </tr>\n",
       "    <tr>\n",
       "      <th>title</th>\n",
       "      <th>final_price</th>\n",
       "      <th>regular_price</th>\n",
       "    </tr>\n",
       "  </thead>\n",
       "  <tbody>\n",
       "    <tr>\n",
       "      <th>#Hashtag 03: Retail - Khởi Sự Kinh Doanh...</th>\n",
       "      <th>154000</th>\n",
       "      <th>220000</th>\n",
       "    </tr>\n",
       "    <tr>\n",
       "      <th>10 Vạn Câu Hỏi Vì Sao - Các Hiện Tượng Tự...</th>\n",
       "      <th>35750</th>\n",
       "      <th>55000</th>\n",
       "    </tr>\n",
       "    <tr>\n",
       "      <th>10 vạn câu hỏi vì sao - trọn bộ 5 tập</th>\n",
       "      <th>124830</th>\n",
       "      <th>219000</th>\n",
       "    </tr>\n",
       "    <tr>\n",
       "      <th>100 Thẻ Flashcard Trắng 4.5 x 8 x 3.7cm Học...</th>\n",
       "      <th>14500</th>\n",
       "      <th>31900</th>\n",
       "    </tr>\n",
       "    <tr>\n",
       "      <th>12 Quy Luật Cuộc Đời: Thần Dược Cho Cuộc...</th>\n",
       "      <th>188546</th>\n",
       "      <th>300000</th>\n",
       "    </tr>\n",
       "    <tr>\n",
       "      <th>...</th>\n",
       "      <th>...</th>\n",
       "      <th>...</th>\n",
       "    </tr>\n",
       "    <tr>\n",
       "      <th>Đừng Vội Vàng, Điều Tuyệt Vời Nhiều Khi Đến...</th>\n",
       "      <th>65600</th>\n",
       "      <th>82000</th>\n",
       "    </tr>\n",
       "    <tr>\n",
       "      <th>Đừng Để Tương Lai Chết Trước Tuổi 30 (Tặng...</th>\n",
       "      <th>61750</th>\n",
       "      <th>95000</th>\n",
       "    </tr>\n",
       "    <tr>\n",
       "      <th>Đừng Đợi Kiếp Sau Mới Quan Tâm Nhau</th>\n",
       "      <th>55900</th>\n",
       "      <th>86000</th>\n",
       "    </tr>\n",
       "    <tr>\n",
       "      <th>Ơn Giời, Freud Trả Lời (Lời Khuyên Từ Những...</th>\n",
       "      <th>119200</th>\n",
       "      <th>149000</th>\n",
       "    </tr>\n",
       "    <tr>\n",
       "      <th>Ứng Dụng Siêu Trí Nhớ 6000 Từ Vựng Tiếng Anh...</th>\n",
       "      <th>113760</th>\n",
       "      <th>138000</th>\n",
       "    </tr>\n",
       "  </tbody>\n",
       "</table>\n",
       "<p>996 rows × 0 columns</p>\n",
       "</div>"
      ],
      "text/plain": [
       "Empty DataFrame\n",
       "Columns: []\n",
       "Index: [(#Hashtag 03: Retail - Khởi Sự Kinh Doanh..., 154000, 220000), (10 Vạn Câu Hỏi Vì Sao - Các Hiện Tượng Tự..., 35750, 55000), (10 vạn câu hỏi vì sao - trọn bộ 5 tập, 124830, 219000), (100 Thẻ Flashcard Trắng 4.5 x 8 x 3.7cm Học..., 14500, 31900), (12 Quy Luật Cuộc Đời: Thần Dược Cho Cuộc..., 188546, 300000), (13 Nguyên Tắc Nghĩ Giàu Làm Giàu - Think And..., 107900, 110000), (199 Mấy Hồi Ấy Làm Gì?, 100800, 112000), (200 Thẻ Flashcard Trắng 5x8cm Dày Giấy..., 21500, 62900), (208 Miếng Dán Hình Thông Minh - IQ - EQ - CQ..., 32954, 58000), (208 Miếng Dán Hình Thông Minh - IQ - EQ - CQ..., 37700, 58000), (21 Bài Học Cho Thế Kỷ 21, 143869, 209000), (22 Quy Luật Bất Biến Trong Marketing (Tái..., 41600, 64000), (25 Chuyên Đề Ngữ Pháp Tiếng Anh Trọng Tâm –..., 62700, 110000), (25 Chuyên Đề Ngữ Pháp Tiếng Anh Trọng Tâm..., 72000, 120000), (3 Phút Sơ Cứu, 89900, 125000), (30 Chủ Đề Từ Vựng Tiếng Anh (Tập 1), 108300, 190000), (30 Chủ Đề Từ Vựng Tiếng Anh (Tập 2), 108300, 190000), (30 Ngày Biết Đệm Guitar, 52200, 78000), (301 Câu Đàm Thoại Tiếng Hoa (Tái Bản), 42250, 65000), (3500 Từ Vựng Tiếng Anh Theo Chủ Đề (Tái Bản..., 46800, 72000), (365 Ngày Thong Dong, 112500, 150000), (420 Câu Đố Vui Thông Minh (Tái Bản), 54400, 68000), (45 Giây Tạo Nên Thay Đổi - Thấu Hiểu Tiếp..., 52500, 70000), (451 Độ F (Tái Bản), 42000, 70000), (5 Centimet Trên Giây, 37000, 50000), (5 Centimet Trên Giây - One More Side, 73500, 98000), (5 Ngôn Ngữ Tình yêu (Tái Bản), 45201, 78000), (50 Miếng Sticker trang trí  Kawaii, 13000, 48000), (50 Ý Tưởng Triết Học, 96850, 149000), (52 Thay Đổi Câu Hỏi Thay Đổi Cuộc Đời, 42539, 60000), (7 Thói Quen Hiệu Quả (Tái Bản), 131980, 165000), (80 Miếng Sticker Dán Trang Trí - Nhiều Mẫu,..., 19000, 36000), (90 - 20 - 30 - 90 Bài Học Vỡ Lòng Về Ý Tưởng..., 210000, 280000), (90% Trẻ Thông Minh Nhờ Cách Trò Chuyện Đúng..., 33150, 39000), (999 Bức thư viết cho bản thân 2018 (Song ngữ..., 175000, 220000), (999 Lá Thư Gửi Cho Chính Mình - Mong Bạn Trở..., 74250, 99000), (999 Lá Thư Gửi Cho Chính Mình – Mong Bạn Trở..., 99000, 0), (ASSASSINATION CLASSROOM 11 - Thời Gian Của..., 20900, 22000), (All In Love - Ngập Tràn Yêu Thương (Tái Bản..., 77350, 119000), (All The Rule - Bình Tĩnh Khi Ế, Mạnh Mẽ Khi..., 68800, 86000), (All The Rule - Sống Bản Lĩnh Theo Cách Một..., 62400, 96000), (Anh Giải Cứu Thế Giới, Em Đến Bảo Vệ Anh, 126400, 158000), (Anh Ấy Đã Không Nắm Tay Tôi, 70000, 83000), (Animorphia - Thế Giới Hoang Dã (Sách Tô Màu..., 55000, 84000), (Anne Tóc Đỏ Dưới Chái Nhà Xanh (Tái Bản 2017), 71250, 95000), (Another (Trọn Bộ 2 Tập), 108900, 160000), (Assassination Classroom 10. Thời Gian Làm..., 22000, 0), (Atlat Địa Lí Việt Nam - 2020, 29450, 31000), (BSRCBY. Ăn Uống Là Hạnh Phúc, 73500, 105000), (Ba Người Thầy Vĩ Đại (Tái Bản 2019), 59739, 95000), (Balo học sinh SM BABY chống gù lưng cao cấp, 183000, 295000), (Balo học sinh SM BABY chống gù lưng cao cấp..., 177999, 299000), (Balo học sinh colkids.club phản quang, 175000, 380000), (Bank 4.0 - Ngân Hàng Số : Giao Dịch Mọi Nơi,..., 129350, 199000), (Barron's Essential Words For The Ielts (Tái..., 133120, 208000), (Becoming - Chất Michelle, 288000, 480000), (Big Drawing Book - Cuốn Sách Khổng Lồ Vẽ..., 71500, 110000), (Binh Pháp Tôn Tử Dành Cho Phái Đẹp, 90760, 118000), (Biến Thân, 87189, 115000), (Black Clover Tập 5: Ánh Sáng (Tặng kèm..., 25000, 0), (Bong Bóng Lên Trời (Tái Bản), 38860, 58000), (Boxset Harry Potter - Tiếng Việt (Trọn Bộ 7..., 1056000, 1550000), (Boxset Nhóc Miko! Cô Bé Nhí Nhảnh (Trọn Bộ..., 460578, 640000), (Boxset Your Name - Phiên Bản Manga, 90000, 120000), (BÚT KACO 5 MÀU GEL LINE, 65000, 82000), (Bài Học Diệu Kỳ Từ Chiếc Xe Rác (Tái Bản), 19500, 30000), (Bài Tập Trắc Nghiệm Tiếng Anh 12 (Có Đáp Án), 45000, 60000), (Bàn Có Năm Chỗ Ngồi (Tái Bản), 36850, 55000), (Bá Tước Monte Cristo (Bìa Cứng), 111000, 199000), (Bá Tước Monte Cristo (Huy Hoàng), 77979, 130000), (Bác Sĩ Riêng Của Bé Yêu - Chào Con! Ba Mẹ Đã..., 63603, 95000), (Bách Khoa Cho Trẻ Em - Bách Khoa Địa Lý, 98910, 160000), (Bách Khoa Lịch Sử Thế Giới, 324100, 499000), (Bách Khoa Thai Nghén - Sinh Nở Và Chăm Sóc..., 97000, 140000), (Bách Khoa Tri Thức Cho Trẻ Em - Khám Phá Và..., 200900, 310000), (Bách Khoa Tri Thức Về Khám Phá Thế Giới Cho..., 29250, 45000), (Báo Cáo Tài Chính - Hướng Dẫn Từng Bước Hiểu..., 102700, 158000), (Báo Cáo Tài Chính Dưới Góc Nhìn Của Warren..., 67238, 95000), (Bên Rặng Tuyết Sơn (Tái Bản 2019), 57200, 88000), (Bí Mật Của May Mắn (Khổ Nhỏ)(Tái Bản), 23400, 36000), (Bí Mật Của Naoko, 81000, 108000), (Bí Mật Của Nước (Tái Bản), 47058, 69000), (Bí Mật Của Phan Thiên Ân, 69000, 0), (Bí Mật Tình Yêu (Sách Tô Màu Dành Cho Người..., 65000, 69000), (Bí Mật Tư Duy Triệu Phú (Tái Bản 2019), 59800, 92000), (Bí Mật Và Thực Tế Về Tự Kỉ Ám Thị (Self..., 62980, 83000), (Bí mật The secret ( Bìa cứng + Tặng kèm 1..., 209000, 268000), (Bóng Hình Của Gió (Tái Bản), 88400, 136000), (Bút Chì Kim Bấm Pentel 0.5mm - A255A-10, 40000, 42000), (Bút Dạ Quang Stabilo Boss Pastel 70, 28900, 48000), (Bút Dạ Quang Stabilo Swing Cool Pastel 275, 27000, 36000), (Bút Gell Mực Trắng Gellyroll Nét, 28000, 35000), (Bút Marker Touch Cool Túi Vải 30/40/60/80..., 131000, 350000), (Bút Vẽ Kỹ Thuật Marvy - 4600, 18941, 23000), (Băng Keo Giấy 1F5 (3 Cuộn / Lốc), 20000, 33000), (Băng Keo Nano 2 Mặt Siêu Dính Cường Lực (..., 29000, 70000), (Băng Keo Siêu Dính, Chịu Nhiệt, Chống Thấm..., 38900, 93000), (Băng keo chống thấm X2000, siêu dính mọi..., 127000, 299000), (Băng keo chống thấm, chống dột cao cấp Bosui..., 65000, 499000), (Băng keo dán nano 2 mặt siêu dính trong suốt..., 35400, 49000), ...]\n",
       "\n",
       "[996 rows x 0 columns]"
      ]
     },
     "execution_count": 18,
     "metadata": {},
     "output_type": "execute_result"
    }
   ],
   "source": [
    "df.groupby(['title','final_price','regular_price']).\n"
   ]
  },
  {
   "cell_type": "code",
   "execution_count": 20,
   "metadata": {},
   "outputs": [
    {
     "data": {
      "text/html": [
       "<div>\n",
       "<style scoped>\n",
       "    .dataframe tbody tr th:only-of-type {\n",
       "        vertical-align: middle;\n",
       "    }\n",
       "\n",
       "    .dataframe tbody tr th {\n",
       "        vertical-align: top;\n",
       "    }\n",
       "\n",
       "    .dataframe thead th {\n",
       "        text-align: right;\n",
       "    }\n",
       "</style>\n",
       "<table border=\"1\" class=\"dataframe\">\n",
       "  <thead>\n",
       "    <tr style=\"text-align: right;\">\n",
       "      <th></th>\n",
       "      <th>title</th>\n",
       "      <th>final_price</th>\n",
       "      <th>regular_price</th>\n",
       "    </tr>\n",
       "  </thead>\n",
       "  <tbody>\n",
       "    <tr>\n",
       "      <th>4</th>\n",
       "      <td>Muôn Kiếp Nhân Sinh (Bìa Cứng)</td>\n",
       "      <td>166400</td>\n",
       "      <td>228000</td>\n",
       "    </tr>\n",
       "  </tbody>\n",
       "</table>\n",
       "</div>"
      ],
      "text/plain": [
       "                            title  final_price  regular_price\n",
       "4  Muôn Kiếp Nhân Sinh (Bìa Cứng)       166400         228000"
      ]
     },
     "execution_count": 20,
     "metadata": {},
     "output_type": "execute_result"
    }
   ],
   "source": [
    "df[df['title'] == 'Muôn Kiếp Nhân Sinh (Bìa Cứng)']"
   ]
  },
  {
   "cell_type": "code",
   "execution_count": 37,
   "metadata": {},
   "outputs": [],
   "source": [
    "groupby_title = df.groupby('title').size().reset_index(name='COUNT').sort_values(by='COUNT',ascending=False)\n"
   ]
  },
  {
   "cell_type": "code",
   "execution_count": 39,
   "metadata": {},
   "outputs": [],
   "source": [
    "pd.set_option('display.max_rows', 500)\n"
   ]
  },
  {
   "cell_type": "code",
   "execution_count": 43,
   "metadata": {},
   "outputs": [
    {
     "data": {
      "text/html": [
       "<div>\n",
       "<style scoped>\n",
       "    .dataframe tbody tr th:only-of-type {\n",
       "        vertical-align: middle;\n",
       "    }\n",
       "\n",
       "    .dataframe tbody tr th {\n",
       "        vertical-align: top;\n",
       "    }\n",
       "\n",
       "    .dataframe thead th {\n",
       "        text-align: right;\n",
       "    }\n",
       "</style>\n",
       "<table border=\"1\" class=\"dataframe\">\n",
       "  <thead>\n",
       "    <tr style=\"text-align: right;\">\n",
       "      <th></th>\n",
       "      <th>title</th>\n",
       "      <th>COUNT</th>\n",
       "    </tr>\n",
       "  </thead>\n",
       "  <tbody>\n",
       "    <tr>\n",
       "      <th>639</th>\n",
       "      <td>POMath - Toán Tư Duy Cho Trẻ Em 4-6 Tuổi...</td>\n",
       "      <td>6</td>\n",
       "    </tr>\n",
       "    <tr>\n",
       "      <th>8</th>\n",
       "      <td>208 Miếng Dán Hình Thông Minh - IQ - EQ - CQ...</td>\n",
       "      <td>4</td>\n",
       "    </tr>\n",
       "    <tr>\n",
       "      <th>793</th>\n",
       "      <td>Tiếng Hàn Tổng Hợp Dành Cho Người Việt Nam -...</td>\n",
       "      <td>3</td>\n",
       "    </tr>\n",
       "    <tr>\n",
       "      <th>295</th>\n",
       "      <td>Dragon Ball Full Color - Phần Một: Thời Niên...</td>\n",
       "      <td>3</td>\n",
       "    </tr>\n",
       "    <tr>\n",
       "      <th>886</th>\n",
       "      <td>Tự Học Toàn Diện Hóa Học - Từ Cơ Bản Đến...</td>\n",
       "      <td>2</td>\n",
       "    </tr>\n",
       "    <tr>\n",
       "      <th>506</th>\n",
       "      <td>Mega 2020 - Siêu Tốc Luyện Đề THPT Quốc Gia...</td>\n",
       "      <td>2</td>\n",
       "    </tr>\n",
       "    <tr>\n",
       "      <th>453</th>\n",
       "      <td>Khởi Nghiệp Bán Lẻ - Bí Quyết Thành Công Và...</td>\n",
       "      <td>2</td>\n",
       "    </tr>\n",
       "    <tr>\n",
       "      <th>941</th>\n",
       "      <td>Đánh Thức Con Người Phi Thường Trong Bạn...</td>\n",
       "      <td>2</td>\n",
       "    </tr>\n",
       "    <tr>\n",
       "      <th>393</th>\n",
       "      <td>Hoàng Tử Bé (Tái Bản 2019)</td>\n",
       "      <td>2</td>\n",
       "    </tr>\n",
       "    <tr>\n",
       "      <th>511</th>\n",
       "      <td>Miền Đất Hứa - The Promised Neverland - Tập...</td>\n",
       "      <td>2</td>\n",
       "    </tr>\n",
       "    <tr>\n",
       "      <th>324</th>\n",
       "      <td>Fujiko F Fujio Đại Tuyển Tập - Doraemon...</td>\n",
       "      <td>2</td>\n",
       "    </tr>\n",
       "    <tr>\n",
       "      <th>362</th>\n",
       "      <td>Hai Vạn Dặm Dưới Biển</td>\n",
       "      <td>2</td>\n",
       "    </tr>\n",
       "  </tbody>\n",
       "</table>\n",
       "</div>"
      ],
      "text/plain": [
       "                                               title  COUNT\n",
       "639      POMath - Toán Tư Duy Cho Trẻ Em 4-6 Tuổi...      6\n",
       "8    208 Miếng Dán Hình Thông Minh - IQ - EQ - CQ...      4\n",
       "793  Tiếng Hàn Tổng Hợp Dành Cho Người Việt Nam -...      3\n",
       "295  Dragon Ball Full Color - Phần Một: Thời Niên...      3\n",
       "886      Tự Học Toàn Diện Hóa Học - Từ Cơ Bản Đến...      2\n",
       "506   Mega 2020 - Siêu Tốc Luyện Đề THPT Quốc Gia...      2\n",
       "453   Khởi Nghiệp Bán Lẻ - Bí Quyết Thành Công Và...      2\n",
       "941      Đánh Thức Con Người Phi Thường Trong Bạn...      2\n",
       "393                       Hoàng Tử Bé (Tái Bản 2019)      2\n",
       "511   Miền Đất Hứa - The Promised Neverland - Tập...      2\n",
       "324       Fujiko F Fujio Đại Tuyển Tập - Doraemon...      2\n",
       "362                            Hai Vạn Dặm Dưới Biển      2"
      ]
     },
     "execution_count": 43,
     "metadata": {},
     "output_type": "execute_result"
    }
   ],
   "source": [
    "groupby_title[groupby_title['COUNT'] > 1]"
   ]
  },
  {
   "cell_type": "code",
   "execution_count": null,
   "metadata": {},
   "outputs": [],
   "source": []
  }
 ],
 "metadata": {
  "kernelspec": {
   "display_name": "Python 3.6.8 64-bit",
   "language": "python",
   "name": "python36864bit87b98c72b1274a0b8f78c79e699662a2"
  },
  "language_info": {
   "codemirror_mode": {
    "name": "ipython",
    "version": 3
   },
   "file_extension": ".py",
   "mimetype": "text/x-python",
   "name": "python",
   "nbconvert_exporter": "python",
   "pygments_lexer": "ipython3",
   "version": "3.6.8"
  }
 },
 "nbformat": 4,
 "nbformat_minor": 4
}
